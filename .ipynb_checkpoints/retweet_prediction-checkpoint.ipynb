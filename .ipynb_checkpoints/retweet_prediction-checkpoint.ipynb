{
 "cells": [
  {
   "cell_type": "code",
   "execution_count": 1,
   "metadata": {
    "collapsed": true
   },
   "outputs": [],
   "source": [
    "import json\n",
    "import re\n",
    "from nltk.corpus import stopwords\n",
    "from nltk.stem import WordNetLemmatizer\n",
    "from nltk.tokenize import TweetTokenizer\n",
    "from nltk import pos_tag\n",
    "import string\n",
    "import nltk\n",
    "import pandas as pd\n",
    "from sklearn.feature_extraction.text import CountVectorizer\n",
    "from sklearn.model_selection import train_test_split\n",
    "from sklearn.ensemble import RandomForestClassifier\n",
    "from sklearn.model_selection import cross_val_score\n",
    "from sklearn.metrics import accuracy_score\n",
    "from imblearn.over_sampling import RandomOverSampler\n"
   ]
  },
  {
   "cell_type": "code",
   "execution_count": 2,
   "metadata": {
    "collapsed": true
   },
   "outputs": [],
   "source": [
    "#Read raw txt file \n",
    "def read_file(file):   \n",
    "    rawdata = [] \n",
    "    tweets_file = open(file, \"r\") \n",
    "    for line in tweets_file:\n",
    "        tweet = json.loads(line)\n",
    "        rawdata.append(tweet)\n",
    "    tweets_file.close()\n",
    "    return rawdata\n",
    "rawdata = read_file('t1.txt')"
   ]
  },
  {
   "cell_type": "code",
   "execution_count": 3,
   "metadata": {
    "collapsed": true
   },
   "outputs": [],
   "source": [
    "#Extract tweets text and assign labels 1-retweeted 0-no retweeted\n",
    "def extract_text(data):    \n",
    "    temp_data = pd.DataFrame(data, columns = ['text', 'retweeted_status', 'lang']) \n",
    "    alltweets = {}\n",
    "    for x in temp_data['text']: \n",
    "        if x.startswith(\"RT\"): \n",
    "            alltweets.update({x: 1})\n",
    "        else:\n",
    "            alltweets.update({x: 0})\n",
    "    return alltweets\n",
    "    \n",
    "text = extract_text(rawdata)\n"
   ]
  },
  {
   "cell_type": "code",
   "execution_count": 4,
   "metadata": {
    "collapsed": true
   },
   "outputs": [],
   "source": [
    "df = pd.DataFrame(list(text.items()), columns=['tweet', 'label'])"
   ]
  },
  {
   "cell_type": "code",
   "execution_count": 5,
   "metadata": {
    "collapsed": true
   },
   "outputs": [],
   "source": [
    "def transform(tweet):   #Remove special characters, punctuation and stop words\n",
    "    tknzr = TweetTokenizer()\n",
    "    tweet = re.sub('http\\S+', '', tweet)\n",
    "    tweet = re.sub('@\\S+', '', tweet)\n",
    "    tweet = re.sub('#\\S+', '', tweet) \n",
    "    tweet = tweet.replace('RT', '')\n",
    "    tweet = tweet.replace('\\'re', ' are')        \n",
    "    tweet = tweet.strip()\n",
    "    tweet = tweet.lower()\n",
    "    tokens = tknzr.tokenize(tweet) \n",
    "    alpha_token = [word for word in tokens if word.isalpha()]\n",
    "    remove_punc = [word for word in alpha_token if word not in string.punctuation]\n",
    "    remove_stop = [word for word in remove_punc if word not in stopwords.words('english')]\n",
    "    return ' '.join(remove_stop)\n",
    "    \n",
    "df['clean'] = df['tweet'].apply(transform)"
   ]
  },
  {
   "cell_type": "code",
   "execution_count": 6,
   "metadata": {
    "collapsed": true
   },
   "outputs": [],
   "source": [
    "#remove duplicates\n",
    "df = df.drop_duplicates()\n",
    "\n",
    "#remove null\n",
    "df = df[pd.notnull(df['clean'])]"
   ]
  },
  {
   "cell_type": "code",
   "execution_count": 7,
   "metadata": {
    "collapsed": true
   },
   "outputs": [],
   "source": [
    "def find_verb(tweets):     #Find the verb for transforming to stem purpose\n",
    "    tknzr = TweetTokenizer()\n",
    "    stemverb = set()\n",
    "    for sentence in tweets:\n",
    "        terms = tknzr.tokenize(sentence) \n",
    "        tagged_terms = pos_tag(terms)\n",
    "        for word in tagged_terms:\n",
    "            if word[1].startswith('VBD') or word[1].startswith('VB') or word[1].startswith('VBP') or word[1].startswith('VBZ') or word[1].startswith('VBG') or word[1].startswith('VBN'):\n",
    "                stemverb.add(word[0])\n",
    "    return stemverb\n",
    "    \n",
    "verb = find_verb(list(df['clean']))"
   ]
  },
  {
   "cell_type": "code",
   "execution_count": 8,
   "metadata": {
    "collapsed": true
   },
   "outputs": [],
   "source": [
    "def find_stem(tweets, verb):    #Transform each word to its stem\n",
    "    tknzr = TweetTokenizer()\n",
    "    wnl = WordNetLemmatizer()\n",
    "    stems = []       \n",
    "    for sentence in tweets:\n",
    "        terms = tknzr.tokenize(sentence)\n",
    "        stem = []\n",
    "        for word in terms:                \n",
    "            if word in verb:\n",
    "                word = wnl.lemmatize(word, 'v')\n",
    "            else:\n",
    "                word = wnl.lemmatize(word)\n",
    "            stem.append(word)\n",
    "            stem_merge = ' '.join(stem)\n",
    "        stems.append(stem_merge)\n",
    "    return stems \n",
    "\n",
    "df['clean'] = find_stem(list(df['clean']), verb)"
   ]
  },
  {
   "cell_type": "code",
   "execution_count": 9,
   "metadata": {},
   "outputs": [
    {
     "data": {
      "text/html": [
       "<div>\n",
       "<style>\n",
       "    .dataframe thead tr:only-child th {\n",
       "        text-align: right;\n",
       "    }\n",
       "\n",
       "    .dataframe thead th {\n",
       "        text-align: left;\n",
       "    }\n",
       "\n",
       "    .dataframe tbody tr th {\n",
       "        vertical-align: top;\n",
       "    }\n",
       "</style>\n",
       "<table border=\"1\" class=\"dataframe\">\n",
       "  <thead>\n",
       "    <tr style=\"text-align: right;\">\n",
       "      <th></th>\n",
       "      <th>tweet</th>\n",
       "      <th>label</th>\n",
       "      <th>clean</th>\n",
       "    </tr>\n",
       "  </thead>\n",
       "  <tbody>\n",
       "    <tr>\n",
       "      <th>0</th>\n",
       "      <td>RT @BelugaSolar: groSolar and CMS Energy begin...</td>\n",
       "      <td>1</td>\n",
       "      <td>grosolar cm energy begin operation new mw wisc...</td>\n",
       "    </tr>\n",
       "    <tr>\n",
       "      <th>2</th>\n",
       "      <td>RT @FoxNews: Californians urged to save energy...</td>\n",
       "      <td>1</td>\n",
       "      <td>californian urge save energy solar eclipse red...</td>\n",
       "    </tr>\n",
       "    <tr>\n",
       "      <th>6</th>\n",
       "      <td>RT @YaleE360: Wind &amp;amp; #solar energy prove r...</td>\n",
       "      <td>1</td>\n",
       "      <td>wind energy prove reliable yet trump proposes ...</td>\n",
       "    </tr>\n",
       "    <tr>\n",
       "      <th>8</th>\n",
       "      <td>RT @Energy_Nature_: Huge solar station: “Topaz...</td>\n",
       "      <td>1</td>\n",
       "      <td>huge solar station topaz</td>\n",
       "    </tr>\n",
       "    <tr>\n",
       "      <th>10</th>\n",
       "      <td>RT @melanie_coutts: #stopadani #auspol There g...</td>\n",
       "      <td>1</td>\n",
       "      <td>go coal company donation libs finish</td>\n",
       "    </tr>\n",
       "  </tbody>\n",
       "</table>\n",
       "</div>"
      ],
      "text/plain": [
       "                                                tweet  label  \\\n",
       "0   RT @BelugaSolar: groSolar and CMS Energy begin...      1   \n",
       "2   RT @FoxNews: Californians urged to save energy...      1   \n",
       "6   RT @YaleE360: Wind &amp; #solar energy prove r...      1   \n",
       "8   RT @Energy_Nature_: Huge solar station: “Topaz...      1   \n",
       "10  RT @melanie_coutts: #stopadani #auspol There g...      1   \n",
       "\n",
       "                                                clean  \n",
       "0   grosolar cm energy begin operation new mw wisc...  \n",
       "2   californian urge save energy solar eclipse red...  \n",
       "6   wind energy prove reliable yet trump proposes ...  \n",
       "8                            huge solar station topaz  \n",
       "10               go coal company donation libs finish  "
      ]
     },
     "execution_count": 9,
     "metadata": {},
     "output_type": "execute_result"
    }
   ],
   "source": [
    "df[df['label'] == 1].head()"
   ]
  },
  {
   "cell_type": "code",
   "execution_count": 10,
   "metadata": {},
   "outputs": [
    {
     "data": {
      "text/html": [
       "<div>\n",
       "<style>\n",
       "    .dataframe thead tr:only-child th {\n",
       "        text-align: right;\n",
       "    }\n",
       "\n",
       "    .dataframe thead th {\n",
       "        text-align: left;\n",
       "    }\n",
       "\n",
       "    .dataframe tbody tr th {\n",
       "        vertical-align: top;\n",
       "    }\n",
       "</style>\n",
       "<table border=\"1\" class=\"dataframe\">\n",
       "  <thead>\n",
       "    <tr style=\"text-align: right;\">\n",
       "      <th></th>\n",
       "      <th>tweet</th>\n",
       "      <th>label</th>\n",
       "      <th>clean</th>\n",
       "    </tr>\n",
       "  </thead>\n",
       "  <tbody>\n",
       "    <tr>\n",
       "      <th>1</th>\n",
       "      <td>Curated HedgeBz | Solar, wind, and nuclear eac...</td>\n",
       "      <td>0</td>\n",
       "      <td>curated hedgebz solar wind nuclear provide ene...</td>\n",
       "    </tr>\n",
       "    <tr>\n",
       "      <th>3</th>\n",
       "      <td>India cancels plans for huge coal power statio...</td>\n",
       "      <td>0</td>\n",
       "      <td>india cancel plan huge coal power station sola...</td>\n",
       "    </tr>\n",
       "    <tr>\n",
       "      <th>4</th>\n",
       "      <td>Seminole Electric Cooperative to supply solar ...</td>\n",
       "      <td>0</td>\n",
       "      <td>seminole electric cooperative supply solar ene...</td>\n",
       "    </tr>\n",
       "    <tr>\n",
       "      <th>5</th>\n",
       "      <td>What a beautiful energy-generation machine! ht...</td>\n",
       "      <td>0</td>\n",
       "      <td>beautiful machine</td>\n",
       "    </tr>\n",
       "    <tr>\n",
       "      <th>7</th>\n",
       "      <td>Say, what??? Sweet! https://t.co/Mzh31AE3o8</td>\n",
       "      <td>0</td>\n",
       "      <td>say sweet</td>\n",
       "    </tr>\n",
       "  </tbody>\n",
       "</table>\n",
       "</div>"
      ],
      "text/plain": [
       "                                               tweet  label  \\\n",
       "1  Curated HedgeBz | Solar, wind, and nuclear eac...      0   \n",
       "3  India cancels plans for huge coal power statio...      0   \n",
       "4  Seminole Electric Cooperative to supply solar ...      0   \n",
       "5  What a beautiful energy-generation machine! ht...      0   \n",
       "7        Say, what??? Sweet! https://t.co/Mzh31AE3o8      0   \n",
       "\n",
       "                                               clean  \n",
       "1  curated hedgebz solar wind nuclear provide ene...  \n",
       "3  india cancel plan huge coal power station sola...  \n",
       "4  seminole electric cooperative supply solar ene...  \n",
       "5                                  beautiful machine  \n",
       "7                                          say sweet  "
      ]
     },
     "execution_count": 10,
     "metadata": {},
     "output_type": "execute_result"
    }
   ],
   "source": [
    "df[df['label'] == 0].head()"
   ]
  },
  {
   "cell_type": "code",
   "execution_count": 11,
   "metadata": {},
   "outputs": [
    {
     "data": {
      "image/png": "[encoded data removed]",
      "text/plain": [
       "<matplotlib.figure.Figure at 0x17875f60e10>"
      ]
     },
     "metadata": {},
     "output_type": "display_data"
    }
   ],
   "source": [
    "#check class balance\n",
    "import matplotlib.pyplot as plt\n",
    "df.groupby('label').tweet.count().plot('bar', rot = 0)\n",
    "plt.show()"
   ]
  },
  {
   "cell_type": "code",
   "execution_count": 81,
   "metadata": {
    "collapsed": true
   },
   "outputs": [],
   "source": [
    "#split the train and test data randomly\n",
    "X_train, X_test, y_train, y_test, indices_train, indices_test = train_test_split(df['clean'], df['label'], df.index, test_size=0.33, random_state=0)"
   ]
  },
  {
   "cell_type": "code",
   "execution_count": 82,
   "metadata": {},
   "outputs": [
    {
     "data": {
      "text/plain": [
       "(1557, 551)"
      ]
     },
     "execution_count": 82,
     "metadata": {},
     "output_type": "execute_result"
    }
   ],
   "source": [
    "from sklearn.feature_extraction.text import TfidfVectorizer\n",
    "tfidf = TfidfVectorizer(sublinear_tf=True, min_df=5, norm='l2', encoding='latin-1', ngram_range=(1, 2), stop_words='english')\n",
    "features = tfidf.fit_transform(X_train)\n",
    "features.shape"
   ]
  },
  {
   "cell_type": "code",
   "execution_count": 83,
   "metadata": {
    "collapsed": true
   },
   "outputs": [],
   "source": [
    "test_features = tfidf.transform(X_test)"
   ]
  },
  {
   "cell_type": "code",
   "execution_count": 84,
   "metadata": {
    "collapsed": true
   },
   "outputs": [],
   "source": [
    "#Oversampling the minority\n",
    "ros = RandomOverSampler(random_state=0)\n",
    "X_resampled, y_resampled = ros.fit_sample(features, y_train)"
   ]
  },
  {
   "cell_type": "code",
   "execution_count": 85,
   "metadata": {},
   "outputs": [
    {
     "name": "stdout",
     "output_type": "stream",
     "text": [
      "[ 0.67718447  0.66585366  0.71463415  0.75365854  0.7195122 ]\n"
     ]
    },
    {
     "data": {
      "text/plain": [
       "0.5958279009126467"
      ]
     },
     "execution_count": 85,
     "metadata": {},
     "output_type": "execute_result"
    }
   ],
   "source": [
    "#use random forest classification algorithm\n",
    "rf = RandomForestClassifier(n_estimators=20, min_samples_split = 40)\n",
    "rf.fit(X_resampled,  y_resampled)\n",
    "rf_scores = cross_val_score(rf, X_resampled, y_resampled, cv = 5)\n",
    "print(rf_scores)\n",
    "rf_p = rf.predict(test_features)\n",
    "rf.score(test_features, y_test)"
   ]
  },
  {
   "cell_type": "code",
   "execution_count": 86,
   "metadata": {},
   "outputs": [
    {
     "name": "stdout",
     "output_type": "stream",
     "text": [
      "{'C': 10, 'gamma': 1}\n",
      "0.716374269006\n"
     ]
    }
   ],
   "source": [
    "#use gridsearch to find the best parameter for svm\n",
    "from sklearn.svm import SVC\n",
    "svm = SVC()\n",
    "parameters = {'C': [0.1, 1, 10],\n",
    "              'gamma': [0.1, 1, 10]}\n",
    "from sklearn.model_selection import GridSearchCV\n",
    "svm_cv = GridSearchCV(svm, parameters, cv=2)\n",
    "svm_cv.fit(X_resampled, y_resampled)\n",
    "print(svm_cv.best_params_)\n",
    "print(svm_cv.best_score_)"
   ]
  },
  {
   "cell_type": "code",
   "execution_count": 87,
   "metadata": {},
   "outputs": [
    {
     "data": {
      "text/plain": [
       "0.60756192959582789"
      ]
     },
     "execution_count": 87,
     "metadata": {},
     "output_type": "execute_result"
    }
   ],
   "source": [
    "#use svm classification algorithm\n",
    "svm = SVC(C = 10, gamma = 1)\n",
    "svc = svm.fit(X_resampled, y_resampled)\n",
    "svc_p = svc.predict(test_features)\n",
    "svc.score(test_features, y_test)"
   ]
  },
  {
   "cell_type": "code",
   "execution_count": 89,
   "metadata": {},
   "outputs": [
    {
     "data": {
      "text/plain": [
       "0.61016949152542377"
      ]
     },
     "execution_count": 89,
     "metadata": {},
     "output_type": "execute_result"
    }
   ],
   "source": [
    "#use logistic regression classification alogorithm\n",
    "from sklearn.linear_model import LogisticRegression\n",
    "logreg = LogisticRegression(C = 0.1)\n",
    "logreg.fit(X_resampled, y_resampled)\n",
    "logreg_p = logreg.predict(test_features)\n",
    "logreg.score(test_features, y_test)"
   ]
  },
  {
   "cell_type": "code",
   "execution_count": 90,
   "metadata": {},
   "outputs": [
    {
     "data": {
      "image/png": "[encoded data removed]",
      "text/plain": [
       "<matplotlib.figure.Figure at 0x1787acc6fd0>"
      ]
     },
     "metadata": {},
     "output_type": "display_data"
    }
   ],
   "source": [
    "from sklearn.metrics import confusion_matrix\n",
    "import seaborn as sns\n",
    "conf_mat = confusion_matrix(y_test, svc_p)\n",
    "sns.heatmap(conf_mat, annot=True, fmt='d',\n",
    "            xticklabels=[0, 1], yticklabels=[0, 1])\n",
    "plt.ylabel('Actual')\n",
    "plt.xlabel('Predicted')\n",
    "plt.show()"
   ]
  },
  {
   "cell_type": "code",
   "execution_count": 91,
   "metadata": {},
   "outputs": [
    {
     "name": "stdout",
     "output_type": "stream",
     "text": [
      "               Importance\n",
      "solar            0.038635\n",
      "energy           0.026356\n",
      "solar energy     0.016038\n",
      "california       0.014323\n",
      "eclipse          0.013179\n",
      "power            0.012085\n",
      "solar eclipse    0.011646\n",
      "solar power      0.011528\n",
      "project          0.010040\n",
      "latest           0.009819\n",
      "wind             0.009402\n",
      "daily            0.009192\n",
      "look             0.008710\n",
      "green            0.008503\n",
      "panel            0.007999\n",
      "ht               0.007564\n",
      "year             0.007508\n",
      "clean energy     0.007104\n",
      "solar panel      0.007030\n",
      "make             0.006474\n"
     ]
    }
   ],
   "source": [
    "#get feature importance\n",
    "#find out which words contribute more to the retweet classification\n",
    "\n",
    "#get the feature names\n",
    "terms = tfidf.get_feature_names()\n",
    "importance = rf.feature_importances_\n",
    "importance = pd.DataFrame(importance, index=terms, \n",
    "                          columns=[\"Importance\"])\n",
    "importance = importance.sort_values(\"Importance\", ascending = False)\n",
    "print(importance.iloc[:20])"
   ]
  },
  {
   "cell_type": "code",
   "execution_count": 92,
   "metadata": {},
   "outputs": [],
   "source": [
    "text_original_text = df.loc[indices_test]['tweet']"
   ]
  },
  {
   "cell_type": "code",
   "execution_count": 93,
   "metadata": {
    "collapsed": true
   },
   "outputs": [],
   "source": [
    "df2 = pd.DataFrame({'tweet': text_original_text, 'clean': X_test, 'actual': y_test, 'predicted': svc_p})"
   ]
  },
  {
   "cell_type": "code",
   "execution_count": 94,
   "metadata": {},
   "outputs": [
    {
     "data": {
      "text/html": [
       "<div>\n",
       "<style>\n",
       "    .dataframe thead tr:only-child th {\n",
       "        text-align: right;\n",
       "    }\n",
       "\n",
       "    .dataframe thead th {\n",
       "        text-align: left;\n",
       "    }\n",
       "\n",
       "    .dataframe tbody tr th {\n",
       "        vertical-align: top;\n",
       "    }\n",
       "</style>\n",
       "<table border=\"1\" class=\"dataframe\">\n",
       "  <thead>\n",
       "    <tr style=\"text-align: right;\">\n",
       "      <th></th>\n",
       "      <th>actual</th>\n",
       "      <th>clean</th>\n",
       "      <th>predicted</th>\n",
       "      <th>tweet</th>\n",
       "    </tr>\n",
       "  </thead>\n",
       "  <tbody>\n",
       "    <tr>\n",
       "      <th>1349</th>\n",
       "      <td>1</td>\n",
       "      <td>many people overestimate solar energy potentia...</td>\n",
       "      <td>0</td>\n",
       "      <td>RT @pablorodas: Many people overestimate the s...</td>\n",
       "    </tr>\n",
       "    <tr>\n",
       "      <th>1972</th>\n",
       "      <td>1</td>\n",
       "      <td>u save fortune solar wind energy positive exte...</td>\n",
       "      <td>0</td>\n",
       "      <td>RT @IRENA: US saving a fortune through solar &amp;...</td>\n",
       "    </tr>\n",
       "    <tr>\n",
       "      <th>57</th>\n",
       "      <td>1</td>\n",
       "      <td>india cancel plan huge coal power station sola...</td>\n",
       "      <td>0</td>\n",
       "      <td>RT @watt_shane: India cancels plans for huge c...</td>\n",
       "    </tr>\n",
       "    <tr>\n",
       "      <th>1382</th>\n",
       "      <td>1</td>\n",
       "      <td>chair necker island event</td>\n",
       "      <td>0</td>\n",
       "      <td>RT @PowerLedger_io: Our Chair @msjemmagreen wi...</td>\n",
       "    </tr>\n",
       "    <tr>\n",
       "      <th>1358</th>\n",
       "      <td>1</td>\n",
       "      <td>wind solar energy provide positive externality...</td>\n",
       "      <td>0</td>\n",
       "      <td>RT @WRIClimate: Wind &amp;amp; solar energy provid...</td>\n",
       "    </tr>\n",
       "  </tbody>\n",
       "</table>\n",
       "</div>"
      ],
      "text/plain": [
       "      actual                                              clean  predicted  \\\n",
       "1349       1  many people overestimate solar energy potentia...          0   \n",
       "1972       1  u save fortune solar wind energy positive exte...          0   \n",
       "57         1  india cancel plan huge coal power station sola...          0   \n",
       "1382       1                          chair necker island event          0   \n",
       "1358       1  wind solar energy provide positive externality...          0   \n",
       "\n",
       "                                                  tweet  \n",
       "1349  RT @pablorodas: Many people overestimate the s...  \n",
       "1972  RT @IRENA: US saving a fortune through solar &...  \n",
       "57    RT @watt_shane: India cancels plans for huge c...  \n",
       "1382  RT @PowerLedger_io: Our Chair @msjemmagreen wi...  \n",
       "1358  RT @WRIClimate: Wind &amp; solar energy provid...  "
      ]
     },
     "execution_count": 94,
     "metadata": {},
     "output_type": "execute_result"
    }
   ],
   "source": [
    "df2[(df2['actual'] == 1) & (df2['predicted'] == 0)].head()"
   ]
  },
  {
   "cell_type": "code",
   "execution_count": 95,
   "metadata": {},
   "outputs": [
    {
     "data": {
      "text/html": [
       "<div>\n",
       "<style>\n",
       "    .dataframe thead tr:only-child th {\n",
       "        text-align: right;\n",
       "    }\n",
       "\n",
       "    .dataframe thead th {\n",
       "        text-align: left;\n",
       "    }\n",
       "\n",
       "    .dataframe tbody tr th {\n",
       "        vertical-align: top;\n",
       "    }\n",
       "</style>\n",
       "<table border=\"1\" class=\"dataframe\">\n",
       "  <thead>\n",
       "    <tr style=\"text-align: right;\">\n",
       "      <th></th>\n",
       "      <th>actual</th>\n",
       "      <th>clean</th>\n",
       "      <th>predicted</th>\n",
       "      <th>tweet</th>\n",
       "    </tr>\n",
       "  </thead>\n",
       "  <tbody>\n",
       "    <tr>\n",
       "      <th>2152</th>\n",
       "      <td>0</td>\n",
       "      <td>solar house build chicago head energy competit...</td>\n",
       "      <td>1</td>\n",
       "      <td>Solar House Built in Chicago Heads to Energy C...</td>\n",
       "    </tr>\n",
       "    <tr>\n",
       "      <th>69</th>\n",
       "      <td>0</td>\n",
       "      <td>solar energy news</td>\n",
       "      <td>1</td>\n",
       "      <td>Solar Energy News is out! https://t.co/huhQYvJCOk</td>\n",
       "    </tr>\n",
       "    <tr>\n",
       "      <th>2223</th>\n",
       "      <td>0</td>\n",
       "      <td>last year industry employ many americans coal ...</td>\n",
       "      <td>1</td>\n",
       "      <td>“Last year the #solar industry employed many m...</td>\n",
       "    </tr>\n",
       "    <tr>\n",
       "      <th>2050</th>\n",
       "      <td>0</td>\n",
       "      <td>household pay solar energy report</td>\n",
       "      <td>1</td>\n",
       "      <td>Households should be paid for their solar ener...</td>\n",
       "    </tr>\n",
       "    <tr>\n",
       "      <th>602</th>\n",
       "      <td>0</td>\n",
       "      <td>big loser eclipse solar panel</td>\n",
       "      <td>1</td>\n",
       "      <td>@realDonaldTrump @IvankaTrump https://t.co/sWb...</td>\n",
       "    </tr>\n",
       "  </tbody>\n",
       "</table>\n",
       "</div>"
      ],
      "text/plain": [
       "      actual                                              clean  predicted  \\\n",
       "2152       0  solar house build chicago head energy competit...          1   \n",
       "69         0                                  solar energy news          1   \n",
       "2223       0  last year industry employ many americans coal ...          1   \n",
       "2050       0                  household pay solar energy report          1   \n",
       "602        0                      big loser eclipse solar panel          1   \n",
       "\n",
       "                                                  tweet  \n",
       "2152  Solar House Built in Chicago Heads to Energy C...  \n",
       "69    Solar Energy News is out! https://t.co/huhQYvJCOk  \n",
       "2223  “Last year the #solar industry employed many m...  \n",
       "2050  Households should be paid for their solar ener...  \n",
       "602   @realDonaldTrump @IvankaTrump https://t.co/sWb...  "
      ]
     },
     "execution_count": 95,
     "metadata": {},
     "output_type": "execute_result"
    }
   ],
   "source": [
    "df2[(df2['actual'] == 0) & (df2['predicted'] == 1)].head()"
   ]
  },
  {
   "cell_type": "code",
   "execution_count": null,
   "metadata": {
    "collapsed": true
   },
   "outputs": [],
   "source": []
  }
 ],
 "metadata": {
  "kernelspec": {
   "display_name": "Python 3",
   "language": "python",
   "name": "python3"
  },
  "language_info": {
   "codemirror_mode": {
    "name": "ipython",
    "version": 3
   },
   "file_extension": ".py",
   "mimetype": "text/x-python",
   "name": "python",
   "nbconvert_exporter": "python",
   "pygments_lexer": "ipython3",
   "version": "3.6.1"
  }
 },
 "nbformat": 4,
 "nbformat_minor": 2
}

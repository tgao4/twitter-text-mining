{
 "cells": [
  {
   "cell_type": "code",
   "execution_count": 1,
   "metadata": {
    "collapsed": true
   },
   "outputs": [],
   "source": [
    "import json\n",
    "import re\n",
    "import pandas as pd\n",
    "from nltk.corpus import stopwords\n",
    "from nltk.stem import WordNetLemmatizer\n",
    "from nltk.tokenize import TweetTokenizer\n",
    "from nltk import pos_tag\n",
    "import string\n",
    "import nltk"
   ]
  },
  {
   "cell_type": "code",
   "execution_count": 2,
   "metadata": {
    "collapsed": true
   },
   "outputs": [],
   "source": [
    "#Read raw txt file \n",
    "def read_file(file):   \n",
    "    rawdata = [] \n",
    "    tweets_file = open(file, \"r\") \n",
    "    for line in tweets_file:\n",
    "        tweet = json.loads(line)\n",
    "        rawdata.append(tweet)\n",
    "    tweets_file.close()\n",
    "    return rawdata\n",
    "rawdata = read_file('t1.txt')"
   ]
  },
  {
   "cell_type": "code",
   "execution_count": 3,
   "metadata": {},
   "outputs": [
    {
     "data": {
      "text/plain": [
       "3176"
      ]
     },
     "execution_count": 3,
     "metadata": {},
     "output_type": "execute_result"
    }
   ],
   "source": [
    "#Extract tweets text\n",
    "def extract_text(data):    #Check if each tweet has retweet information, if it has, extract the original tweet, if not, extract the text information\n",
    "    temp_data = pd.DataFrame(data, columns = ['text', 'retweeted_status', 'lang']) \n",
    "    temp_data['retweets'] = temp_data['retweeted_status'].notnull()  \n",
    "    retweets = temp_data[(temp_data.retweets == True) & (temp_data.lang == 'en')]    \n",
    "    alltweets = []\n",
    "    for x in retweets['retweeted_status']: \n",
    "        alltweets.append(x['text'])          \n",
    "    noretweets = temp_data[(temp_data.retweets == False) & (temp_data.lang == 'en')]  \n",
    "    for x in noretweets['text']:  \n",
    "        alltweets.append(x) \n",
    "\n",
    "    return alltweets\n",
    "    \n",
    "text = extract_text(rawdata)\n",
    "len(text)"
   ]
  },
  {
   "cell_type": "code",
   "execution_count": 4,
   "metadata": {},
   "outputs": [
    {
     "data": {
      "text/plain": [
       "['groSolar and CMS Energy begin operation of new 3.4-MW Wisconsin solar farm - https://t.co/2Iy57F6YE2',\n",
       " 'groSolar and CMS Energy begin operation of new 3.4-MW Wisconsin solar farm - https://t.co/2Iy57F6YE2',\n",
       " 'groSolar and CMS Energy begin operation of new 3.4-MW Wisconsin solar farm - https://t.co/2Iy57F6YE2',\n",
       " 'groSolar and CMS Energy begin operation of new 3.4-MW Wisconsin solar farm - https://t.co/2Iy57F6YE2',\n",
       " \"Californians urged to save energy during August's solar eclipse to reduce the strain on solar power resources. https://t.co/19BtnEaj9L\",\n",
       " 'groSolar and CMS Energy begin operation of new 3.4-MW Wisconsin solar farm - https://t.co/2Iy57F6YE2',\n",
       " 'groSolar and CMS Energy begin operation of new 3.4-MW Wisconsin solar farm - https://t.co/2Iy57F6YE2',\n",
       " 'groSolar and CMS Energy begin operation of new 3.4-MW Wisconsin solar farm - https://t.co/2Iy57F6YE2',\n",
       " 'groSolar and CMS Energy begin operation of new 3.4-MW Wisconsin solar farm - https://t.co/2Iy57F6YE2',\n",
       " 'groSolar and CMS Energy begin operation of new 3.4-MW Wisconsin solar farm - https://t.co/2Iy57F6YE2']"
      ]
     },
     "execution_count": 4,
     "metadata": {},
     "output_type": "execute_result"
    }
   ],
   "source": [
    "text[:10]"
   ]
  },
  {
   "cell_type": "code",
   "execution_count": 4,
   "metadata": {
    "collapsed": true
   },
   "outputs": [],
   "source": [
    "def transform(tweet):   #Remove special characters, punctuation and stop words\n",
    "    tknzr = TweetTokenizer()\n",
    "    tweet = re.sub('http\\S+', '', tweet)\n",
    "    tweet = re.sub('@\\S+', '', tweet)\n",
    "    tweet = re.sub('#\\S+', '', tweet) \n",
    "    tweet = tweet.replace('RT', '')\n",
    "    tweet = tweet.replace('\\'re', ' are')        \n",
    "    tweet = tweet.strip()\n",
    "    tweet = tweet.lower()\n",
    "    tokens = tknzr.tokenize(tweet) \n",
    "    alpha_token = [word for word in tokens if word.isalpha()]\n",
    "    remove_punc = [word for word in alpha_token if word not in string.punctuation]\n",
    "    remove_stop = [word for word in remove_punc if word not in stopwords.words('english')]\n",
    "    return ' '.join(remove_stop)\n",
    "\n",
    "clean_data = list(map(transform, text))"
   ]
  },
  {
   "cell_type": "code",
   "execution_count": 6,
   "metadata": {},
   "outputs": [
    {
     "data": {
      "text/plain": [
       "['grosolar cms energy begin operation new mw wisconsin solar farm',\n",
       " 'grosolar cms energy begin operation new mw wisconsin solar farm',\n",
       " 'grosolar cms energy begin operation new mw wisconsin solar farm',\n",
       " 'grosolar cms energy begin operation new mw wisconsin solar farm',\n",
       " 'californians urged save energy solar eclipse reduce strain solar power resources',\n",
       " 'grosolar cms energy begin operation new mw wisconsin solar farm',\n",
       " 'grosolar cms energy begin operation new mw wisconsin solar farm',\n",
       " 'grosolar cms energy begin operation new mw wisconsin solar farm',\n",
       " 'grosolar cms energy begin operation new mw wisconsin solar farm',\n",
       " 'grosolar cms energy begin operation new mw wisconsin solar farm']"
      ]
     },
     "execution_count": 6,
     "metadata": {},
     "output_type": "execute_result"
    }
   ],
   "source": [
    "clean_data[:10]"
   ]
  },
  {
   "cell_type": "code",
   "execution_count": 5,
   "metadata": {},
   "outputs": [
    {
     "data": {
      "text/plain": [
       "1738"
      ]
     },
     "execution_count": 5,
     "metadata": {},
     "output_type": "execute_result"
    }
   ],
   "source": [
    " def remove_duplicates(tweets):     #Remove duplicates and empty tweets\n",
    "    tweets = list(set(tweets))\n",
    "    tweets = list(filter(lambda s: len(s) > 0, tweets))\n",
    "    return tweets\n",
    "    \n",
    "noduplicate  = remove_duplicates(clean_data)\n",
    "len(noduplicate)"
   ]
  },
  {
   "cell_type": "code",
   "execution_count": 8,
   "metadata": {},
   "outputs": [
    {
     "data": {
      "text/plain": [
       "['solar energy continues industry rise south carolina',\n",
       " 'solar energy right home',\n",
       " 'also wind solar generate th global final energy use people might really think something done',\n",
       " 'rise mean',\n",
       " 'pope francis inspires iowa church use solar energy youngstown vindicator',\n",
       " 'solar expert predicts clean',\n",
       " 'lighting information concepts solar powered energy',\n",
       " 'bodhi soleil awakening sun knew mfs would use child solar energy',\n",
       " 'yahoo news latest news headlinesin tucson competing interests fight solar energy profits',\n",
       " 'tesla powerwall let households run entirely solar energy']"
      ]
     },
     "execution_count": 8,
     "metadata": {},
     "output_type": "execute_result"
    }
   ],
   "source": [
    "noduplicate[:10]"
   ]
  },
  {
   "cell_type": "code",
   "execution_count": 9,
   "metadata": {},
   "outputs": [
    {
     "data": {
      "text/plain": [
       "['send solar farm like one putting controls energy controls dest',\n",
       " 'solar eclipse impacting solar energy',\n",
       " 'published medium post check',\n",
       " 'solar power ready dominate energy thanks new tech',\n",
       " 'new start wrote',\n",
       " 'latest ees renewable energy news thanks',\n",
       " 'heroically proving solar energy myth perpetuated uh argentinians make us less fun',\n",
       " 'utility free solar collect energy days year free energy owner equipment',\n",
       " 'solar panels turn rays electricity find minutes',\n",
       " 'imagine avoided green wind solar trap invested nuclear c']"
      ]
     },
     "execution_count": 9,
     "metadata": {},
     "output_type": "execute_result"
    }
   ],
   "source": [
    "noduplicate[-10:]"
   ]
  },
  {
   "cell_type": "code",
   "execution_count": 6,
   "metadata": {
    "collapsed": true
   },
   "outputs": [],
   "source": [
    "def find_verb(tweets):     #Find the verb for transforming to stem purpose\n",
    "    tknzr = TweetTokenizer()\n",
    "    stemverb = set()\n",
    "    for sentence in tweets:\n",
    "        terms = tknzr.tokenize(sentence) \n",
    "        tagged_terms = pos_tag(terms)\n",
    "        for word in tagged_terms:\n",
    "            if word[1].startswith('VBD') or word[1].startswith('VB') or word[1].startswith('VBP') or word[1].startswith('VBZ') or word[1].startswith('VBG') or word[1].startswith('VBN'):\n",
    "                stemverb.add(word[0])\n",
    "    return stemverb\n",
    "    \n",
    "verb = find_verb(noduplicate)"
   ]
  },
  {
   "cell_type": "code",
   "execution_count": 7,
   "metadata": {
    "collapsed": true
   },
   "outputs": [],
   "source": [
    "def find_stem(tweets, verb):    #Transform each word to its stem\n",
    "    tknzr = TweetTokenizer()\n",
    "    wnl = WordNetLemmatizer()\n",
    "    stems = []       \n",
    "    for sentence in tweets:\n",
    "        terms = tknzr.tokenize(sentence)\n",
    "        stem = []\n",
    "        for word in terms:                \n",
    "            if word in verb:\n",
    "                word = wnl.lemmatize(word, 'v')\n",
    "            else:\n",
    "                word = wnl.lemmatize(word)\n",
    "            stem.append(word)\n",
    "        stems.append(stem)\n",
    "    return stems \n",
    "\n",
    "stems = find_stem(noduplicate, verb)"
   ]
  },
  {
   "cell_type": "code",
   "execution_count": 9,
   "metadata": {
    "collapsed": true
   },
   "outputs": [],
   "source": [
    "def pos_tag_tweets(tweets):   #Pos tag each word\n",
    "    pos_tag_tweet = []\n",
    "    for sentence in tweets:\n",
    "        pos_tag_tweet.append(pos_tag(sentence))\n",
    "    return pos_tag_tweet\n",
    "\n",
    "tag = pos_tag_tweets(stems)"
   ]
  },
  {
   "cell_type": "code",
   "execution_count": 29,
   "metadata": {},
   "outputs": [
    {
     "data": {
      "image/png": "[encoded data removed]",
      "text/plain": [
       "<matplotlib.figure.Figure at 0x28d28376550>"
      ]
     },
     "metadata": {},
     "output_type": "display_data"
    }
   ],
   "source": [
    "import matplotlib.pyplot as plt\n",
    "def count_hashtag(data):    #top 10 hashtag \n",
    "    hashtag = []\n",
    "    entities = pd.DataFrame(data, columns = ['entities'])\n",
    "    for x in entities['entities']:\n",
    "        if x['hashtags'] != []:\n",
    "            for hasht in x['hashtags']:\n",
    "                hashtag.append(hasht['text'])\n",
    "    return hashtag\n",
    "        \n",
    "hashtag = pd.Series(count_hashtag(rawdata))\n",
    "hashtag.value_counts()[:10].plot('bar', rot = 45)\n",
    "plt.show()"
   ]
  },
  {
   "cell_type": "code",
   "execution_count": 14,
   "metadata": {
    "collapsed": true
   },
   "outputs": [],
   "source": [
    " def category(tweets):   #Append words into noun, verb, adjectives and adverb category\n",
    "    noun = []\n",
    "    verb = []\n",
    "    adjective = []\n",
    "    adverb = []\n",
    "    for sentence in tweets:\n",
    "        for pair in sentence:\n",
    "            if pair[1].startswith('NN') or pair[1].startswith('NNP') or pair[1].startswith('NNS'):\n",
    "                noun.append(pair[0])\n",
    "            elif pair[1].startswith('VBD') or pair[1].startswith('VB') or pair[1].startswith('VBP') or pair[1].startswith('VBZ') or pair[1].startswith('VBG') or pair[1].startswith('VBN'):\n",
    "                verb.append(pair[0])\n",
    "            elif pair[1].startswith('JJ'):\n",
    "                adjective.append(pair[0])\n",
    "            elif pair[1].startswith('RB'):\n",
    "                adverb.append(pair[0])\n",
    "    return noun, verb, adjective, adverb\n",
    "\n",
    "noun, verb, adjective, adverb = category(tag)"
   ]
  },
  {
   "cell_type": "code",
   "execution_count": 31,
   "metadata": {},
   "outputs": [
    {
     "data": {
      "image/png": "[encoded data removed]",
      "text/plain": [
       "<matplotlib.figure.Figure at 0x28d1fcc5cf8>"
      ]
     },
     "metadata": {},
     "output_type": "display_data"
    }
   ],
   "source": [
    " def count_frequency(list):     #top 10 nouns (name-entity)\n",
    "    list_s = pd.Series(list)\n",
    "    list_s.value_counts()[:10].plot('bar', rot = 45)\n",
    "\n",
    "count_frequency(noun)\n",
    "plt.show()"
   ]
  },
  {
   "cell_type": "code",
   "execution_count": 32,
   "metadata": {},
   "outputs": [
    {
     "data": {
      "image/png": "[encoded data removed]",
      "text/plain": [
       "<matplotlib.figure.Figure at 0x28d28f6fb38>"
      ]
     },
     "metadata": {},
     "output_type": "display_data"
    }
   ],
   "source": [
    "#top 10 verbs\n",
    "count_frequency(verb)\n",
    "plt.show()"
   ]
  },
  {
   "cell_type": "code",
   "execution_count": 33,
   "metadata": {},
   "outputs": [
    {
     "data": {
      "image/png": "[encoded data removed]",
      "text/plain": [
       "<matplotlib.figure.Figure at 0x28d29043f28>"
      ]
     },
     "metadata": {},
     "output_type": "display_data"
    }
   ],
   "source": [
    "#top 10 adjectives\n",
    "count_frequency(adjective)\n",
    "plt.show()"
   ]
  },
  {
   "cell_type": "code",
   "execution_count": 36,
   "metadata": {
    "collapsed": true
   },
   "outputs": [],
   "source": [
    "def three_key_word(tweets):\n",
    "    nnn = []\n",
    "    jnn = []\n",
    "    for tweet in tweets:\n",
    "        for i in range(len(tweet) - 2):\n",
    "            if tweet[i][1] == 'NN' and tweet[i + 1][1] == 'NN' and tweet[i + 2][1] == 'NN':\n",
    "                nnn.append((tweet[i][0], tweet[i + 1][0], tweet[i + 2][0]))\n",
    "            elif tweet[i][1] == 'JJ' and tweet[i + 1][1] == 'NN' and tweet[i + 2][1] == 'NN':\n",
    "                jnn.append((tweet[i][0], tweet[i + 1][0], tweet[i + 2][0]))\n",
    "    return nnn, jnn\n",
    "    \n",
    "nnn, jnn = three_key_word(tag)"
   ]
  },
  {
   "cell_type": "code",
   "execution_count": 39,
   "metadata": {},
   "outputs": [
    {
     "data": {
      "text/plain": [
       "(tesla, energy, tesla)       5\n",
       "(wind, power, cost)          5\n",
       "(pope, francis, inspire)     5\n",
       "(city, tesla, energy)        5\n",
       "(energy, storage, system)    5\n",
       "(solar, energy, power)       4\n",
       "(float, solar, farm)         4\n",
       "(reshape, energy, market)    4\n",
       "(power, percent, wind)       3\n",
       "(market, growth, energy)     3\n",
       "dtype: int64"
      ]
     },
     "execution_count": 39,
     "metadata": {},
     "output_type": "execute_result"
    }
   ],
   "source": [
    "#Three consecutive nouns\n",
    "def value_count(list):\n",
    "    list_s = pd.Series(list)\n",
    "    return list_s.value_counts()[:10]\n",
    "value_count(nnn)"
   ]
  },
  {
   "cell_type": "code",
   "execution_count": 11,
   "metadata": {},
   "outputs": [
    {
     "data": {
      "text/plain": [
       "['destroy greedy oil baron wind ene',\n",
       " 'energy act solar syste',\n",
       " 'reason utility',\n",
       " 'state energy',\n",
       " 'community access point power',\n",
       " 'labor day',\n",
       " 'throw car biz biz cuz tesla',\n",
       " 'attempt ship prius car photovoltaic roof tech',\n",
       " 'energy eclipse affect operation',\n",
       " 'energy produce pollution effect']"
      ]
     },
     "execution_count": 11,
     "metadata": {},
     "output_type": "execute_result"
    }
   ],
   "source": [
    "clean = []\n",
    "clean_topic = []\n",
    "for sentence in tag:\n",
    "    result = []\n",
    "    for pair in sentence:\n",
    "        if pair[1].startswith('NN') or pair[1].startswith('NNP') or pair[1].startswith('NNS'):\n",
    "            result.append(pair[0])\n",
    "    clean.append(' '.join(result))\n",
    "    clean_topic.append(result)\n",
    "clean[:10]"
   ]
  },
  {
   "cell_type": "code",
   "execution_count": 12,
   "metadata": {
    "collapsed": true
   },
   "outputs": [],
   "source": [
    "#use tf-idf to extract features   \n",
    "from sklearn.feature_extraction.text import TfidfVectorizer\n",
    "tfidf_vectorizer = TfidfVectorizer()\n",
    "tfidf_matrix = tfidf_vectorizer.fit_transform(clean)\n",
    "\n",
    "#get feature names\n",
    "terms = tfidf_vectorizer.get_feature_names()"
   ]
  },
  {
   "cell_type": "code",
   "execution_count": 22,
   "metadata": {},
   "outputs": [
    {
     "name": "stdout",
     "output_type": "stream",
     "text": [
      "Cluster 0:\n",
      " panel energy battery edf homeowner system technology year generate roof\n",
      "Cluster 1:\n",
      " solar system energy california look utility capacity industry year texas\n",
      "Cluster 2:\n",
      " power energy wind water plant country cost home americans pv\n",
      "Cluster 3:\n",
      " world glass village brick energy deploy let kwara fast move\n",
      "Cluster 4:\n",
      " thanks project energy news power thermal sahara utility aim module\n",
      "Cluster 5:\n",
      " eclipse energy power grid moon month conserve home august today\n",
      "Cluster 6:\n",
      " farm float world mine energy coast solar china coal year\n",
      "Cluster 7:\n",
      " energy wind cost way coal company source plant news market\n",
      "Cluster 8:\n",
      " use energy panel francis pope inspire church conserve power home\n",
      "Cluster 9:\n",
      " blog post energy check fight benefit electricity tucson profit team\n"
     ]
    }
   ],
   "source": [
    "from sklearn.cluster import KMeans\n",
    "km = KMeans(n_clusters = 10)\n",
    "km.fit(tfidf_matrix)\n",
    "\n",
    "#top 10 important words for each cluster\n",
    "order_centroids = km.cluster_centers_.argsort()[:, ::-1]\n",
    "for i in range(10):\n",
    "    print(\"Cluster %d:\" % i, end='')\n",
    "    print()\n",
    "    for ind in order_centroids[i, :10]:\n",
    "        print(' %s' % terms[ind], end='')\n",
    "    print()"
   ]
  },
  {
   "cell_type": "code",
   "execution_count": 13,
   "metadata": {},
   "outputs": [
    {
     "name": "stderr",
     "output_type": "stream",
     "text": [
      "C:\\Users\\TINGTING\\Anaconda3\\lib\\site-packages\\gensim\\utils.py:862: UserWarning: detected Windows; aliasing chunkize to chunkize_serial\n",
      "  warnings.warn(\"detected Windows; aliasing chunkize to chunkize_serial\")\n"
     ]
    }
   ],
   "source": [
    "#Top identification\n",
    "from gensim import corpora\n",
    "dictionary = corpora.Dictionary(clean_topic)\n",
    "doc_term_matrix = [dictionary.doc2bow(doc) for doc in clean_topic]"
   ]
  },
  {
   "cell_type": "code",
   "execution_count": 14,
   "metadata": {},
   "outputs": [
    {
     "data": {
      "text/plain": [
       "[(0,\n",
       "  '0.078*\"energy\" + 0.036*\"eclipse\" + 0.034*\"panel\" + 0.025*\"texas\" + 0.020*\"state\" + 0.018*\"solar\" + 0.013*\"generate\" + 0.013*\"electricity\" + 0.010*\"power\" + 0.009*\"rooftop\" + 0.009*\"use\" + 0.008*\"impact\" + 0.007*\"people\" + 0.007*\"moon\" + 0.007*\"month\" + 0.005*\"think\" + 0.005*\"company\" + 0.005*\"senator\" + 0.005*\"hydro\" + 0.005*\"u\" + 0.004*\"help\" + 0.004*\"market\" + 0.004*\"war\" + 0.004*\"penalty\" + 0.004*\"trade\" + 0.004*\"blind\" + 0.004*\"let\" + 0.004*\"part\" + 0.004*\"source\" + 0.004*\"air\"'),\n",
       " (1,\n",
       "  '0.158*\"energy\" + 0.056*\"power\" + 0.027*\"wind\" + 0.018*\"home\" + 0.015*\"project\" + 0.013*\"solar\" + 0.013*\"news\" + 0.013*\"cost\" + 0.009*\"tesla\" + 0.009*\"eclipse\" + 0.008*\"company\" + 0.008*\"need\" + 0.008*\"bill\" + 0.008*\"plant\" + 0.007*\"use\" + 0.006*\"pv\" + 0.006*\"panel\" + 0.005*\"learn\" + 0.005*\"australia\" + 0.005*\"clean\" + 0.005*\"electricity\" + 0.005*\"report\" + 0.005*\"fuel\" + 0.004*\"fossil\" + 0.004*\"storage\" + 0.004*\"supply\" + 0.004*\"china\" + 0.004*\"partner\" + 0.004*\"august\" + 0.004*\"space\"'),\n",
       " (2,\n",
       "  '0.099*\"energy\" + 0.036*\"power\" + 0.035*\"solar\" + 0.025*\"coal\" + 0.015*\"plant\" + 0.015*\"gas\" + 0.012*\"wind\" + 0.012*\"battery\" + 0.011*\"utility\" + 0.010*\"world\" + 0.010*\"look\" + 0.009*\"china\" + 0.008*\"show\" + 0.008*\"people\" + 0.008*\"year\" + 0.008*\"india\" + 0.008*\"program\" + 0.007*\"oil\" + 0.006*\"money\" + 0.006*\"float\" + 0.006*\"panel\" + 0.005*\"mine\" + 0.005*\"news\" + 0.005*\"farm\" + 0.005*\"study\" + 0.005*\"duke\" + 0.004*\"use\" + 0.004*\"europe\" + 0.004*\"sun\" + 0.004*\"plan\"'),\n",
       " (3,\n",
       "  '0.086*\"energy\" + 0.058*\"system\" + 0.021*\"panel\" + 0.021*\"market\" + 0.018*\"storage\" + 0.013*\"pv\" + 0.010*\"inspire\" + 0.009*\"research\" + 0.008*\"use\" + 0.007*\"plant\" + 0.007*\"homeowner\" + 0.007*\"pope\" + 0.007*\"sun\" + 0.006*\"edf\" + 0.006*\"francis\" + 0.006*\"potential\" + 0.006*\"reshape\" + 0.006*\"growth\" + 0.005*\"california\" + 0.005*\"eclipse\" + 0.005*\"iowa\" + 0.005*\"church\" + 0.005*\"power\" + 0.004*\"renewables\" + 0.004*\"cost\" + 0.004*\"w\" + 0.004*\"art\" + 0.004*\"access\" + 0.004*\"push\" + 0.004*\"al\"'),\n",
       " (4,\n",
       "  '0.100*\"energy\" + 0.023*\"panel\" + 0.021*\"eclipse\" + 0.012*\"power\" + 0.009*\"tax\" + 0.008*\"move\" + 0.008*\"day\" + 0.007*\"system\" + 0.006*\"village\" + 0.006*\"mw\" + 0.006*\"credit\" + 0.006*\"feel\" + 0.006*\"battery\" + 0.005*\"bring\" + 0.005*\"wind\" + 0.005*\"deal\" + 0.005*\"charge\" + 0.005*\"today\" + 0.005*\"woman\" + 0.005*\"happens\" + 0.004*\"use\" + 0.004*\"talk\" + 0.003*\"get\" + 0.003*\"roof\" + 0.003*\"city\" + 0.003*\"night\" + 0.003*\"job\" + 0.003*\"point\" + 0.003*\"advantage\" + 0.003*\"car\"'),\n",
       " (5,\n",
       "  '0.162*\"energy\" + 0.017*\"solar\" + 0.013*\"source\" + 0.010*\"today\" + 0.010*\"cell\" + 0.009*\"panel\" + 0.009*\"solution\" + 0.009*\"eclipse\" + 0.008*\"use\" + 0.007*\"supply\" + 0.006*\"way\" + 0.006*\"capture\" + 0.006*\"california\" + 0.006*\"report\" + 0.006*\"light\" + 0.005*\"fuel\" + 0.005*\"create\" + 0.005*\"part\" + 0.005*\"work\" + 0.005*\"home\" + 0.004*\"technology\" + 0.004*\"issue\" + 0.004*\"number\" + 0.004*\"glass\" + 0.004*\"call\" + 0.004*\"battery\" + 0.004*\"job\" + 0.004*\"benefit\" + 0.004*\"time\" + 0.003*\"investment\"'),\n",
       " (6,\n",
       "  '0.129*\"energy\" + 0.043*\"eclipse\" + 0.034*\"power\" + 0.015*\"help\" + 0.014*\"wind\" + 0.013*\"water\" + 0.011*\"country\" + 0.010*\"money\" + 0.010*\"americans\" + 0.009*\"way\" + 0.008*\"year\" + 0.008*\"grid\" + 0.007*\"future\" + 0.007*\"cost\" + 0.007*\"amount\" + 0.007*\"death\" + 0.006*\"interest\" + 0.006*\"production\" + 0.006*\"profit\" + 0.006*\"store\" + 0.006*\"earth\" + 0.006*\"fight\" + 0.006*\"california\" + 0.005*\"tucson\" + 0.005*\"development\" + 0.005*\"installation\" + 0.004*\"planet\" + 0.004*\"talk\" + 0.004*\"video\" + 0.004*\"rise\"'),\n",
       " (7,\n",
       "  '0.057*\"energy\" + 0.030*\"capacity\" + 0.022*\"plan\" + 0.022*\"power\" + 0.017*\"year\" + 0.016*\"change\" + 0.013*\"company\" + 0.012*\"time\" + 0.010*\"installation\" + 0.009*\"farm\" + 0.009*\"project\" + 0.009*\"panel\" + 0.009*\"california\" + 0.008*\"limit\" + 0.007*\"china\" + 0.007*\"station\" + 0.007*\"climate\" + 0.007*\"mexico\" + 0.007*\"gw\" + 0.007*\"surpass\" + 0.007*\"goal\" + 0.006*\"effort\" + 0.006*\"wind\" + 0.006*\"way\" + 0.006*\"end\" + 0.005*\"fund\" + 0.005*\"nation\" + 0.005*\"read\" + 0.005*\"africa\" + 0.005*\"story\"'),\n",
       " (8,\n",
       "  '0.062*\"energy\" + 0.057*\"thanks\" + 0.035*\"industry\" + 0.025*\"power\" + 0.009*\"camp\" + 0.008*\"price\" + 0.008*\"panel\" + 0.007*\"electricity\" + 0.007*\"team\" + 0.007*\"refugee\" + 0.007*\"tariff\" + 0.006*\"eclipse\" + 0.006*\"work\" + 0.006*\"business\" + 0.006*\"trade\" + 0.006*\"glass\" + 0.006*\"case\" + 0.006*\"let\" + 0.006*\"record\" + 0.005*\"world\" + 0.005*\"news\" + 0.004*\"consumer\" + 0.004*\"level\" + 0.004*\"time\" + 0.004*\"use\" + 0.004*\"sunlight\" + 0.004*\"light\" + 0.004*\"blip\" + 0.004*\"brick\" + 0.004*\"finance\"'),\n",
       " (9,\n",
       "  '0.054*\"energy\" + 0.028*\"support\" + 0.019*\"post\" + 0.016*\"blog\" + 0.014*\"project\" + 0.011*\"school\" + 0.010*\"panel\" + 0.010*\"solar\" + 0.010*\"color\" + 0.009*\"power\" + 0.008*\"community\" + 0.008*\"sahara\" + 0.008*\"design\" + 0.008*\"technology\" + 0.008*\"provider\" + 0.007*\"fight\" + 0.007*\"generate\" + 0.007*\"install\" + 0.007*\"cool\" + 0.007*\"competition\" + 0.006*\"work\" + 0.005*\"contract\" + 0.005*\"enters\" + 0.005*\"day\" + 0.005*\"force\" + 0.005*\"fall\" + 0.005*\"problem\" + 0.005*\"berkley\" + 0.005*\"somerset\" + 0.005*\"committee\"')]"
      ]
     },
     "execution_count": 14,
     "metadata": {},
     "output_type": "execute_result"
    }
   ],
   "source": [
    "import gensim\n",
    "Lda = gensim.models.ldamodel.LdaModel\n",
    "ldamodel = Lda(doc_term_matrix, num_topics = 10, id2word = dictionary, passes = 50)\n",
    "ldamodel.print_topics(num_topics = 10, num_words = 30)"
   ]
  },
  {
   "cell_type": "code",
   "execution_count": null,
   "metadata": {
    "collapsed": true
   },
   "outputs": [],
   "source": []
  }
 ],
 "metadata": {
  "kernelspec": {
   "display_name": "Python 3",
   "language": "python",
   "name": "python3"
  },
  "language_info": {
   "codemirror_mode": {
    "name": "ipython",
    "version": 3
   },
   "file_extension": ".py",
   "mimetype": "text/x-python",
   "name": "python",
   "nbconvert_exporter": "python",
   "pygments_lexer": "ipython3",
   "version": "3.6.1"
  }
 },
 "nbformat": 4,
 "nbformat_minor": 2
}
